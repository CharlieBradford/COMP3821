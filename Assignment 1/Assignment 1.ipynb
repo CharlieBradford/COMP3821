{
 "cells": [
  {
   "cell_type": "raw",
   "metadata": {},
   "source": [
    "  1. (a) For sought number r\n",
    "\n",
    "    Step 1: Sort the array (henceforce a) using an efficient algorithm\n",
    "    Complexity: O(nlogn)\n",
    "    \n",
    "    Step 2: Iterate through the array with a high index (initially a.length -1) and a low index (initially 0)\n",
    "            If the number is too large decrement the high index\n",
    "            If the number is too small increment the low index\n",
    "            If a(i) + a(j) = k     \n",
    "    Complexity: O(n)\n",
    "    \n",
    "    Return false if nothing is found\n",
    "    \n",
    "    Total Complexity: O(nlogn)"
   ]
  },
  {
   "cell_type": "code",
   "execution_count": 7,
   "metadata": {
    "collapsed": true
   },
   "outputs": [],
   "source": [
    "def check_if_sum_nlogn(a, r):\n",
    "    a = a.sort()\n",
    "\n",
    "    i = 0\n",
    "    j = len(a) - 1\n",
    "\n",
    "    while j > i:\n",
    "        k = a[j] + a[i]\n",
    "        if k == r:\n",
    "            return True\n",
    "        elif k > r:\n",
    "            j = j - 1\n",
    "        else:\n",
    "            i = i + 1\n",
    "        \n",
    "    return False"
   ]
  },
  {
   "cell_type": "raw",
   "metadata": {},
   "source": [
    "1. (b)\n",
    "    Step 1: Create a hash H with the values of a as keys\n",
    "        Initialise all values to False\n",
    "    Complexity: O(n)\n",
    "        \n",
    "    Step 2: Iterate n through the array\n",
    "        If h(n) is True, return True \n",
    "        Else set h(n - r) to True\n",
    "    Complexity: O(n)\n",
    "    \n",
    "    Return false if nothing is found\n",
    "    \n",
    "    Total Complexity: O(n)"
   ]
  },
  {
   "cell_type": "code",
   "execution_count": 6,
   "metadata": {
    "collapsed": true
   },
   "outputs": [],
   "source": [
    "def check_if_sum_n(a, r):\n",
    "    # Create hash with initial values False\n",
    "    h = dict.fromkeys(a, False)\n",
    "    \n",
    "    for n in a:\n",
    "        if h(a):\n",
    "            return True\n",
    "        else:\n",
    "            h[a - r] = True\n",
    "            \n",
    "    return False"
   ]
  },
  {
   "cell_type": "raw",
   "metadata": {},
   "source": [
    "2. \n",
    "    Step 1: Sort Array A\n",
    "    Complexity: O(nlogn)\n",
    "    \n",
    "    Step 2: Create Hash H with each value in A being a key for it's index\n",
    "    Complexity: O(n)\n",
    "    \n",
    "    Step 2: Return H(R) - H(L) for each query\n",
    "    Complexity: O(n)"
   ]
  },
  {
   "cell_type": "code",
   "execution_count": 1,
   "metadata": {
    "collapsed": true
   },
   "outputs": [],
   "source": [
    "def elements_between_L_R(A, L_array, R_array):\n",
    "    A = A.sort()\n",
    "    \n",
    "    H = {}\n",
    "    for i in range(length(A)):\n",
    "        H[A[i]] = i\n",
    "    \n",
    "    results = []\n",
    "    for L, R in zip(L_array, R_array):\n",
    "        results.append[H[R] - H[L]]\n",
    "        \n",
    "    return results"
   ]
  },
  {
   "cell_type": "raw",
   "metadata": {},
   "source": [
    "3.\n",
    "    Step 1: "
   ]
  },
  {
   "cell_type": "code",
   "execution_count": 3,
   "metadata": {
    "collapsed": true
   },
   "outputs": [],
   "source": [
    "supported_teams = [[True, False, True, True, False],\n",
    "                   [False, True, False, False, True],\n",
    "                   [True, True, True, False, True],\n",
    "                   [False, False, False, False, True],\n",
    "                   [True, False, True, True, False]]\n",
    "def supports(friend, team):\n",
    "    return supported_teams[friend][team]\n",
    "\n",
    "\n",
    "\n",
    "\n",
    "def find_team_subset(N):\n",
    "    teams = []\n",
    "    for n in range(N):\n",
    "        if not supports(n, n):\n",
    "            teams.append(n)\n",
    "    return teams"
   ]
  },
  {
   "cell_type": "raw",
   "metadata": {},
   "source": [
    "4.\n",
    "    Step 1: Max(abs(y{i} - y{i-1})) < 2/(n-1)\n",
    "        Create (n-1)/2 buckets\n",
    "        The max difference of two adjacent buckets = n-1/2"
   ]
  },
  {
   "cell_type": "code",
   "execution_count": 3,
   "metadata": {
    "collapsed": true
   },
   "outputs": [],
   "source": [
    "def find_permutation(numbers):\n",
    "    return"
   ]
  },
  {
   "cell_type": "raw",
   "metadata": {},
   "source": [
    "5. (a)\n",
    "    Step 1: Initialise a high pointer (n - 1) and a low pointer (0)\n",
    "        Loop through guests, if guest[high pointer] knows guest[low pointer], decrement high pointer\n",
    "        Else decrement low pointer\n",
    "        When high pointer equals low pointer, theres a potential celeb\n",
    "    Max questions asked: n-1\n",
    "    \n",
    "    Step 2: Check if celeb is valid. For every guest that is not the potential celeb:\n",
    "        Ask the potential celeb if they know the guest\n",
    "            If they do, return False\n",
    "        Ask the guest if they know the potential celeb\n",
    "            If they don't return False\n",
    "    Max questions asked: 2n-2\n",
    "    \n",
    "    Total max questions asked 3n-3    "
   ]
  },
  {
   "cell_type": "code",
   "execution_count": 17,
   "metadata": {},
   "outputs": [
    {
     "name": "stdout",
     "output_type": "stream",
     "text": [
      "0\n"
     ]
    }
   ],
   "source": [
    "guest_knows = [[True, False, False, False],\n",
    "               [True, True, False, True],\n",
    "               [True, True, True, False],\n",
    "               [True, True, True, True]]\n",
    "\n",
    "def knows(guest_1, guest_2):\n",
    "    return guest_knows[guest_1][guest_2]\n",
    "\n",
    "def find_celebrity_3n_3(guests):\n",
    "    \n",
    "    i = 0\n",
    "    j = len(guests) - 1\n",
    "    while j > i:\n",
    "\n",
    "        if knows(guests[i], guests[j]):\n",
    "            i = i + 1\n",
    "        else:\n",
    "            j = j - 1\n",
    "    celeb = guests[i]\n",
    "    for guest in guests:\n",
    "        if guest == celeb: \n",
    "            continue\n",
    "        if not knows(guest, celeb) or knows(celeb, guest):\n",
    "            return -1\n",
    "    \n",
    "    return celeb\n",
    "\n",
    "print(find_celebrity_3n_3(range(4)))"
   ]
  },
  {
   "cell_type": "raw",
   "metadata": {},
   "source": [
    "5. (b)\n",
    "    Additional questions can be avoided by remembering questions asked earlier\n",
    "    \n",
    "    Step 1: Store the guests in a queue, to ensure that the celebrity is asked at least logn questions\n",
    "        Store all question answers in a matrix to ensure that no questions are repeated\n",
    "    Max questions asked: n-1\n",
    "    \n",
    "    Step 2: Check the potential celebrity. \n",
    "    Max questions asked: 2n-1 - log n \n",
    "    \n",
    "    Total max questions asked: 3n - 2 - logn"
   ]
  },
  {
   "cell_type": "code",
   "execution_count": 2,
   "metadata": {
    "collapsed": true
   },
   "outputs": [],
   "source": [
    "def find_celebrity_3n_log2n_2(guests): \n",
    "    \n",
    "    i = 0\n",
    "    j = len(guests) - 1\n",
    "    \n",
    "    asked = [[False]*len(guests)]*len(guests) # Stores all questions answered in an array\n",
    "    \n",
    "    guests_queue = guests\n",
    "\n",
    "            \n",
    "    while len(guests_queue) > 1:\n",
    "        A = guests_queue.pop()\n",
    "        B = guests_queue.pop()\n",
    "        if knows(A, B):\n",
    "            questions_asked[A][B] = 1\n",
    "            questions_asked[B][A] = 1\n",
    "            guests_queue.append(B)\n",
    "        else:\n",
    "            questions_asked[A][B] = 0\n",
    "            questions_asked[B][A] = 0\n",
    "            guests_queue.append(A)\n",
    "    \n",
    "    celeb = guests_queue.pop()\n",
    "\n",
    "    for guest in guests:\n",
    "        if guest == celeb: \n",
    "            continue\n",
    "        guest_knows_celeb = asked[guest][celeb] if asked[guest][celeb] is not False else known(guest, celeb)\n",
    "        celeb_knows_guest = asked[celeb][guest] if asked[celeb][guest] is not False else known(celeb, guest)\n",
    "        if guest_knows_celeb == 0 or celeb_knows_guest == 1:\n",
    "            return -1\n",
    "    \n",
    "    return celeb"
   ]
  },
  {
   "cell_type": "raw",
   "metadata": {
    "collapsed": true
   },
   "source": [
    "6. (a) Each student only votes once. So if their name appears on any vote n times then 1 of those was from when they wrote their own name and n-1 votes came from other people."
   ]
  },
  {
   "cell_type": "raw",
   "metadata": {},
   "source": [
    "6. (b) Students that received no votes only had their names appear on the votes that they cast. Therefore the other name on the only ballot with their name is the person they voted for."
   ]
  },
  {
   "cell_type": "raw",
   "metadata": {},
   "source": [
    "6. (c) A group of n students can cast a maximum of n votes. If all n students get 1 vote then there is 0 votes left so no student gets more than 1 votes."
   ]
  },
  {
   "cell_type": "code",
   "execution_count": null,
   "metadata": {
    "collapsed": true
   },
   "outputs": [],
   "source": [
    "def count_votes_n2(votes_list):\n",
    "    h = {}\n",
    "    for vote in votes_list:\n",
    "        name1, name2 = vote.split(' ')\n",
    "        if name1 in h:\n",
    "            h[name1]++\n",
    "        else:\n",
    "            h[name1] = 0\n",
    "        if name2 in h:\n",
    "            h[name2]++\n",
    "        else:\n",
    "            h[name2] = 0\n",
    "    \n",
    "    everyone_got_votes = True\n",
    "    received_no_votes = []\n",
    "    for key in h.keys():\n",
    "        if h[key] == 1:\n",
    "            everyone_got_votes = False\n",
    "            received_no_votes.append(key)\n",
    "            \n",
    "    if everyone_got_votes:\n",
    "        for vote in votes_list:\n",
    "            print(vote.replace(' ', ' voted for '))\n",
    "            return\n",
    "    \n",
    "    while len(votes_list) > 1:\n",
    "        vote = votes_list.pop()\n",
    "        name1, name2 = vote.split(' ')\n",
    "        if h[name1] > 2 and h[name2] > 2:\n",
    "            votes_list.append(vote)\n",
    "        elif h[name1] == 1:\n",
    "            print(name1 + ' voted for ' + name2)\n",
    "            h[name2]--\n",
    "        else:\n",
    "            print(name2 + ' voted for ' + name1)\n",
    "            h[name1]--"
   ]
  }
 ],
 "metadata": {
  "kernelspec": {
   "display_name": "Python 3",
   "language": "python",
   "name": "python3"
  },
  "language_info": {
   "codemirror_mode": {
    "name": "ipython",
    "version": 3
   },
   "file_extension": ".py",
   "mimetype": "text/x-python",
   "name": "python",
   "nbconvert_exporter": "python",
   "pygments_lexer": "ipython3",
   "version": "3.6.4"
  }
 },
 "nbformat": 4,
 "nbformat_minor": 2
}
