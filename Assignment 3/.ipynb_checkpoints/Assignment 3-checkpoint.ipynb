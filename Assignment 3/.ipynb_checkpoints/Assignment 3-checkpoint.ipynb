{
 "cells": [
  {
   "cell_type": "code",
   "execution_count": 30,
   "metadata": {},
   "outputs": [],
   "source": [
    "def subStringCount(A, B):\n",
    "    h, d = {}, {}\n",
    "    for i, c in enumerate(A):\n",
    "        h[i] = 0\n",
    "        d[c] = i\n",
    "        \n",
    "    for c in B:\n",
    "        if c == A[0]:\n",
    "            h[c] += 1\n",
    "        elif h[A[d[c] - 1]] >= h[c]:\n",
    "            h[c] = h[A[d[c] - 1]] + 1\n",
    "        print(h)\n",
    "        \n",
    "        \n",
    "    return h[A[len(A)-1]]\n",
    "        \n",
    "        \n",
    "            \n",
    "                        "
   ]
  },
  {
   "cell_type": "code",
   "execution_count": 31,
   "metadata": {},
   "outputs": [
    {
     "name": "stdout",
     "output_type": "stream",
     "text": [
      "{'b': 1, 'a': 0}\n",
      "{'b': 1, 'a': 2}\n",
      "{'b': 2, 'a': 2}\n",
      "{'b': 2, 'a': 3}\n"
     ]
    },
    {
     "data": {
      "text/plain": [
       "2"
      ]
     },
     "execution_count": 31,
     "metadata": {},
     "output_type": "execute_result"
    }
   ],
   "source": [
    "subStringCount(\"bab\", \"baba\")"
   ]
  },
  {
   "cell_type": "code",
   "execution_count": null,
   "metadata": {
    "collapsed": true
   },
   "outputs": [],
   "source": []
  }
 ],
 "metadata": {
  "kernelspec": {
   "display_name": "Python 3",
   "language": "python",
   "name": "python3"
  },
  "language_info": {
   "codemirror_mode": {
    "name": "ipython",
    "version": 3
   },
   "file_extension": ".py",
   "mimetype": "text/x-python",
   "name": "python",
   "nbconvert_exporter": "python",
   "pygments_lexer": "ipython3",
   "version": "3.6.4"
  }
 },
 "nbformat": 4,
 "nbformat_minor": 2
}
