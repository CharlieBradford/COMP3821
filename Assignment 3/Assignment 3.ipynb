{
 "cells": [
  {
   "cell_type": "code",
   "execution_count": 41,
   "metadata": {},
   "outputs": [],
   "source": [
    "def subStringCount(A, B):\n",
    "    h, d = {}, {}\n",
    "    for i, c in enumerate(A):\n",
    "        h[i] = 0\n",
    "        d[c] = i\n",
    "        \n",
    "    for c in B:\n",
    "        if c == A[0]:\n",
    "            h[d[c]] += 1\n",
    "        elif h[d[c] - 1] >= h[d[c]]:\n",
    "            h[d[c]] = h[d[c] - 1] + 1\n",
    "        print(h)\n",
    "        \n",
    "        \n",
    "    return h[len(A)-1]\n",
    "        \n",
    "        \n",
    "            \n",
    "                        "
   ]
  },
  {
   "cell_type": "code",
   "execution_count": 45,
   "metadata": {},
   "outputs": [
    {
     "name": "stdout",
     "output_type": "stream",
     "text": [
      "{0: 1, 1: 0}\n",
      "{0: 1, 1: 2}\n",
      "{0: 2, 1: 2}\n",
      "{0: 2, 1: 3}\n",
      "{0: 3, 1: 3}\n",
      "{0: 3, 1: 4}\n"
     ]
    },
    {
     "data": {
      "text/plain": [
       "4"
      ]
     },
     "execution_count": 45,
     "metadata": {},
     "output_type": "execute_result"
    }
   ],
   "source": [
    "subStringCount(\"ba\", \"bababa\")"
   ]
  },
  {
   "cell_type": "code",
   "execution_count": null,
   "metadata": {
    "collapsed": true
   },
   "outputs": [],
   "source": []
  }
 ],
 "metadata": {
  "kernelspec": {
   "display_name": "Python 3",
   "language": "python",
   "name": "python3"
  },
  "language_info": {
   "codemirror_mode": {
    "name": "ipython",
    "version": 3
   },
   "file_extension": ".py",
   "mimetype": "text/x-python",
   "name": "python",
   "nbconvert_exporter": "python",
   "pygments_lexer": "ipython3",
   "version": "3.6.4"
  }
 },
 "nbformat": 4,
 "nbformat_minor": 2
}
