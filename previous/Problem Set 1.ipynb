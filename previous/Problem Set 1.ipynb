{
 "cells": [
  {
   "cell_type": "markdown",
   "metadata": {},
   "source": [
    "1. Create an array B[100] with all values False\n",
    "\n",
    "For a in A if B[a] is False set it to True, if B[a] is already True, return A"
   ]
  },
  {
   "cell_type": "code",
   "execution_count": 2,
   "metadata": {
    "collapsed": true
   },
   "outputs": [
    {
     "ename": "SyntaxError",
     "evalue": "'return' outside function (<ipython-input-2-a08ad6161ecb>, line 4)",
     "output_type": "error",
     "traceback": [
      "\u001b[0;36m  File \u001b[0;32m\"<ipython-input-2-a08ad6161ecb>\"\u001b[0;36m, line \u001b[0;32m4\u001b[0m\n\u001b[0;31m    return a\u001b[0m\n\u001b[0m    ^\u001b[0m\n\u001b[0;31mSyntaxError\u001b[0m\u001b[0;31m:\u001b[0m 'return' outside function\n"
     ]
    }
   ],
   "source": [
    "B = [False for _ in range(100)]\n",
    "for a in A:\n",
    "    if B[a]:\n",
    "        return a\n",
    "    else:\n",
    "        B[a] = True"
   ]
  },
  {
   "cell_type": "code",
   "execution_count": null,
   "metadata": {
    "collapsed": true
   },
   "outputs": [],
   "source": [
    "celeb = True for all guests\n",
    "guests = List of all guests\n",
    "n = len(guests)\n",
    "while more than one True in celeb:\n",
    "    for guest in range(n-1):\n",
    "        if not celeb[guest]: continue\n",
    "    \n",
    "        if guests[guest] knows guests[guest + 1]:\n",
    "            celeb[guest] = False\n",
    "        else:\n",
    "            celeb[guest+1] = False\n",
    "\n",
    "## Iteration 1           \n",
    "# Maximum of n-1 questions asked\n",
    "# Total of n-1 questions asked\n",
    "# Maximum of n/2 guests left\n",
    "\n",
    "## Iteration 2\n",
    "# Maximum of n/2 - 1 questions asked\n",
    "# Total of 3n/2 - 2 questions asked\n",
    "# Maximum of n/4 guests left\n",
    "    \n",
    "    \n"
   ]
  },
  {
   "cell_type": "code",
   "execution_count": 111,
   "metadata": {},
   "outputs": [],
   "source": [
    "def max_hopscotch(scores):\n",
    "    scores = scores[::-1]\n",
    "    n = len(scores)\n",
    "    dp = []\n",
    "    pa = []\n",
    "    \n",
    "    dp.append([0 for _ in range(n)])\n",
    "    pa.append([0 for _ in range(n)])\n",
    "\n",
    "    \n",
    "    dp[0][0] = scores[0]\n",
    "    pa[0][0] = str(scores[0])\n",
    "  \n",
    "    \n",
    "    for i in range(1, n):\n",
    "        dp.append([0 for _ in range(n)])\n",
    "        pa.append([0 for _ in range(n)])\n",
    "        \n",
    "        dp[0][i] = 0\n",
    "        pa[0][i] = pa[0][0]\n",
    "        \n",
    "        dp[i][0] = dp[i-1][0] + scores[i]\n",
    "        pa[i][0] = pa[i-1][0] + \", {}\".format(scores[i])\n",
    "    \n",
    "  \n",
    "    \n",
    "    for i in range(n):\n",
    "        \n",
    "        for j in range(1,n):\n",
    "            if j > i:\n",
    "                dp[i][j] = dp[i][j-1]\n",
    "                pa[i][j] = pa[i][j-1]\n",
    "            else:\n",
    "                dp[i][j] = max(dp[i][j-1], dp[i-j][j] + scores[i])\n",
    "                pa[i][j] = pa[i][j-1] if dp[i][j] == dp[i][j-1] else pa[i-1][j] + \", {}\".format(scores[i])\n",
    "                \n",
    "          \n",
    "                \n",
    "                \n",
    "    print(dp[n-1][n-1])\n",
    " \n",
    "    "
   ]
  },
  {
   "cell_type": "code",
   "execution_count": 114,
   "metadata": {},
   "outputs": [
    {
     "name": "stdout",
     "output_type": "stream",
     "text": [
      "32\n"
     ]
    }
   ],
   "source": [
    "scores = [3, -2, 3, -4, 5, -6, 7, -8 , -9, 10, 12]\n",
    "max_hopscotch(scores)"
   ]
  },
  {
   "cell_type": "code",
   "execution_count": null,
   "metadata": {
    "collapsed": true
   },
   "outputs": [],
   "source": []
  },
  {
   "cell_type": "code",
   "execution_count": null,
   "metadata": {
    "collapsed": true
   },
   "outputs": [],
   "source": []
  }
 ],
 "metadata": {
  "kernelspec": {
   "display_name": "Python 3",
   "language": "python",
   "name": "python3"
  },
  "language_info": {
   "codemirror_mode": {
    "name": "ipython",
    "version": 3
   },
   "file_extension": ".py",
   "mimetype": "text/x-python",
   "name": "python",
   "nbconvert_exporter": "python",
   "pygments_lexer": "ipython3",
   "version": "3.6.5"
  }
 },
 "nbformat": 4,
 "nbformat_minor": 2
}
