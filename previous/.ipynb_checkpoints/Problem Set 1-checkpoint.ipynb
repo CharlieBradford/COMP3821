{
 "cells": [
  {
   "cell_type": "markdown",
   "metadata": {},
   "source": [
    "1. Create an array B[100] with all values False\n",
    "\n",
    "For a in A if B[a] is False set it to True, if B[a] is already True, return A"
   ]
  },
  {
   "cell_type": "code",
   "execution_count": 2,
   "metadata": {
    "collapsed": true
   },
   "outputs": [
    {
     "ename": "SyntaxError",
     "evalue": "'return' outside function (<ipython-input-2-a08ad6161ecb>, line 4)",
     "output_type": "error",
     "traceback": [
      "\u001b[0;36m  File \u001b[0;32m\"<ipython-input-2-a08ad6161ecb>\"\u001b[0;36m, line \u001b[0;32m4\u001b[0m\n\u001b[0;31m    return a\u001b[0m\n\u001b[0m    ^\u001b[0m\n\u001b[0;31mSyntaxError\u001b[0m\u001b[0;31m:\u001b[0m 'return' outside function\n"
     ]
    }
   ],
   "source": [
    "B = [False for _ in range(100)]\n",
    "for a in A:\n",
    "    if B[a]:\n",
    "        return a\n",
    "    else:\n",
    "        B[a] = True"
   ]
  },
  {
   "cell_type": "code",
   "execution_count": null,
   "metadata": {
    "collapsed": true
   },
   "outputs": [],
   "source": [
    "celeb_1 = True for all guests\n",
    "guests_1 = List of all guests\n",
    "for guest in range(n-1):\n",
    "    if not celeb_1: continue\n",
    "    \n",
    "    if guests_1[guest] knows guests_1[guest + 1]:\n",
    "        celeb_1[guest] = False\n",
    "    else:\n",
    "        celeb_1[guest+1] = False\n",
    "\n",
    "# Maximum of n questions asked\n",
    "# Maximum of n/2 guests left\n",
    "        \n",
    "celeb_2 = True for all remaining guests\n",
    "guest_2 = List of all remaining guests\n",
    "n = len(guest_2)\n",
    "for guest in rang(n-1):\n",
    "    \n",
    "    \n"
   ]
  },
  {
   "cell_type": "code",
   "execution_count": null,
   "metadata": {
    "collapsed": true
   },
   "outputs": [],
   "source": [
    "\n",
    "    "
   ]
  }
 ],
 "metadata": {
  "kernelspec": {
   "display_name": "Python 3",
   "language": "python",
   "name": "python3"
  },
  "language_info": {
   "codemirror_mode": {
    "name": "ipython",
    "version": 3
   },
   "file_extension": ".py",
   "mimetype": "text/x-python",
   "name": "python",
   "nbconvert_exporter": "python",
   "pygments_lexer": "ipython3",
   "version": "3.6.3"
  }
 },
 "nbformat": 4,
 "nbformat_minor": 2
}
