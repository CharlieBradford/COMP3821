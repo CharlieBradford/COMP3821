{
 "cells": [
  {
   "cell_type": "raw",
   "metadata": {},
   "source": [
    "3. Let M be an n × n matrix of distinct integers M(i, j), 1 ≤ i ≤ n, 0 ≤ j ≤ n. Each\n",
    "row and each column of the matrix is sorted in the increasing order, so that for each\n",
    "row i, 1 ≤ i ≤ n,\n",
    "M(i, 1) < M(i, 2) < . . . < M(i, n)\n",
    "and for each column j, 1 ≤ j ≤ n,\n",
    "M(1, j) < M(2, j) < . . . < M(n, j)\n",
    "You need to determine whether M contains a given integer x in O(n) time."
   ]
  },
  {
   "cell_type": "code",
   "execution_count": 7,
   "metadata": {
    "collapsed": true
   },
   "outputs": [],
   "source": [
    "i = 1\n",
    "j = 1\n",
    "r = \"False\"\n",
    "while i < n and j < n and m[i+1][j+1] < x:\n",
    "    i++\n",
    "    j++\n",
    "if m[i][j] == x:\n",
    "    r = \"True\"\n",
    "else:\n",
    "    stopI = i+1\n",
    "    stopJ = j+1\n",
    "    while i != stopI or j != stopJ:\n",
    "        if m[i][j] == x:\n",
    "            r = \"True\"\n",
    "            break\n",
    "        elif i == n:\n",
    "            i = 1\n",
    "            j++\n",
    "        else\n",
    "            i++\n",
    "print(r)\n",
    "    "
   ]
  },
  {
   "cell_type": "raw",
   "metadata": {},
   "source": [
    "4. Assume you have an array of 2n distinct integers. Find the largest and the smallest\n",
    "number using 3n − 2 comparisons only.\n",
    "        "
   ]
  },
  {
   "cell_type": "code",
   "execution_count": 57,
   "metadata": {},
   "outputs": [
    {
     "name": "stdout",
     "output_type": "stream",
     "text": [
      "Questions asked: 2998, max allowed 2998\n",
      "Max found 999721, real max 999721\n",
      "Min found 102, real min 102\n"
     ]
    }
   ],
   "source": [
    "n = 1000\n",
    "arr = [randint(0,1000000) for x in range(0, n*2)]\n",
    "minarr = []\n",
    "questions = 0\n",
    "counter = n\n",
    "maxf = max(arr)\n",
    "minf = min(arr)\n",
    "while len(arr) > 1:\n",
    "\n",
    "    a = arr.pop(0)\n",
    "    b = arr.pop(0)\n",
    "    questions = questions + 1\n",
    "    if a > b:\n",
    "        bigger = a\n",
    "        smaller = b\n",
    "    else:\n",
    "        bigger = b\n",
    "        smaller = a\n",
    "    arr.append(bigger)\n",
    "    if counter > 0:\n",
    "        minarr.append(smaller)\n",
    "        counter = counter - 1\n",
    "biggest = bigger\n",
    "while len(minarr) > 1:\n",
    "    a = minarr.pop(0)\n",
    "    b = minarr.pop(0)\n",
    "    questions = questions + 1\n",
    "    if a > b:\n",
    "        minarr.append(b)\n",
    "    else:\n",
    "        minarr.append(a)\n",
    "smallest = minarr[0]\n",
    "\n",
    "print(\"Questions asked: {}, max allowed {}\".format(questions, (3*n)-2))\n",
    "print(\"Max found {}, real max {}\".format(biggest, maxf))\n",
    "print(\"Min found {}, real min {}\".format(smallest, minf))"
   ]
  },
  {
   "cell_type": "code",
   "execution_count": null,
   "metadata": {
    "collapsed": true
   },
   "outputs": [],
   "source": []
  },
  {
   "cell_type": "raw",
   "metadata": {},
   "source": [
    " Assume that you have an array of 2^n distinct integers. Find the largest and the\n",
    "second largest number using only 2^n + n − 2 comparisons."
   ]
  },
  {
   "cell_type": "code",
   "execution_count": 56,
   "metadata": {},
   "outputs": [
    {
     "name": "stdout",
     "output_type": "stream",
     "text": [
      "10\n",
      "Questions asked: 1032, max allowed 1032\n",
      "Max found 1023, real max 1023\n",
      "Sec found 1022, real sec 1022\n"
     ]
    }
   ],
   "source": [
    "from random import shuffle\n",
    "n = 10\n",
    "questions = 0\n",
    "arr = [x for x in range(0, 2**n)]\n",
    "shuffle(arr)\n",
    "maxf = 2**n - 1\n",
    "max2f = 2**n - 2\n",
    "\n",
    "defeated = {}\n",
    "\n",
    "while len(arr) > 1:\n",
    "    a = arr.pop(0)\n",
    "    b = arr.pop(0)\n",
    "\n",
    "    questions = questions + 1\n",
    "    if a > b:\n",
    "        bigger = a\n",
    "        smaller = b\n",
    "    else:\n",
    "        bigger = b\n",
    "        smaller = a\n",
    "    if bigger not in defeated.keys():\n",
    "        defeated[bigger] = []\n",
    "    defeated[bigger].append(smaller)\n",
    "    arr.append(bigger)\n",
    "\n",
    "    \n",
    "\n",
    "\n",
    "biggest = bigger\n",
    "\n",
    "seclist = defeated[biggest]\n",
    "print(len(seclist))\n",
    "\n",
    "while len(seclist) > 1:\n",
    "    a = seclist.pop(0)\n",
    "    b = seclist.pop(0)\n",
    "    questions = questions + 1\n",
    "    if a > b:\n",
    "        seclist.append(a)\n",
    "    else:\n",
    "        seclist.append(b)\n",
    "second = seclist.pop()\n",
    "\n",
    "\n",
    "\n",
    "print(\"Questions asked: {}, max allowed {}\".format(questions, (2**n) + n - 2))\n",
    "print(\"Max found {}, real max {}\".format(biggest, maxf))\n",
    "print(\"Sec found {}, real sec {}\".format(second, max2f))"
   ]
  },
  {
   "cell_type": "raw",
   "metadata": {
    "collapsed": true
   },
   "source": [
    "6. You are given a 2^n × 2^n board with one of its cells missing (i.e., the board has a\n",
    "hole); the position of the missing cell can be arbitrary. You are also given a supply\n",
    "of “dominoes” each containing 3 such squares; see the figure below. Your task is to\n",
    "design an algorithm for covering the entire board with such “dominoes”, except for\n",
    "the hole which should remain uncovered."
   ]
  },
  {
   "cell_type": "code",
   "execution_count": 26,
   "metadata": {
    "collapsed": true
   },
   "outputs": [],
   "source": [
    "from random import *\n",
    "\n",
    "import sys  \n",
    "def show(m, n):\n",
    "    for i in range(2**n):\n",
    "        for j in range(2**n):\n",
    "            sys.stdout.write(m[i][j])\n",
    "        print()\n",
    "\n",
    "\n",
    "n = 5\n",
    "uncoveredX = randint(0, 2**n - 1)\n",
    "uncoveredY = randint(0, 2**n - 1)\n",
    "m = [['0' for _ in range(2**n)] for x in range(2**n)]\n",
    "l = []\n",
    "m[uncoveredX][uncoveredY] = '#'\n"
   ]
  },
  {
   "cell_type": "markdown",
   "metadata": {},
   "source": [
    "The four adjacent digits in the 1000-digit number that have the greatest product are 9 × 9 × 8 × 9 = 5832.\n",
    "\n",
    "73167176531330624919225119674426574742355349194934\n",
    "96983520312774506326239578318016984801869478851843\n",
    "85861560789112949495459501737958331952853208805511\n",
    "12540698747158523863050715693290963295227443043557\n",
    "66896648950445244523161731856403098711121722383113\n",
    "62229893423380308135336276614282806444486645238749\n",
    "30358907296290491560440772390713810515859307960866\n",
    "70172427121883998797908792274921901699720888093776\n",
    "65727333001053367881220235421809751254540594752243\n",
    "52584907711670556013604839586446706324415722155397\n",
    "53697817977846174064955149290862569321978468622482\n",
    "83972241375657056057490261407972968652414535100474\n",
    "82166370484403199890008895243450658541227588666881\n",
    "16427171479924442928230863465674813919123162824586\n",
    "17866458359124566529476545682848912883142607690042\n",
    "24219022671055626321111109370544217506941658960408\n",
    "07198403850962455444362981230987879927244284909188\n",
    "84580156166097919133875499200524063689912560717606\n",
    "05886116467109405077541002256983155200055935729725\n",
    "71636269561882670428252483600823257530420752963450\n",
    "\n",
    "Find the thirteen adjacent digits in the 1000-digit number that have the greatest product. What is the value of this product?"
   ]
  },
  {
   "cell_type": "code",
   "execution_count": 7,
   "metadata": {},
   "outputs": [
    {
     "name": "stdout",
     "output_type": "stream",
     "text": [
      "23514624000\n"
     ]
    }
   ],
   "source": [
    "x = \"7316717653133062491922511967442657474235534919493496983520312774506326239578318016984801869478851843858615607891129494954595017379583319528532088055111254069874715852386305071569329096329522744304355766896648950445244523161731856403098711121722383113622298934233803081353362766142828064444866452387493035890729629049156044077239071381051585930796086670172427121883998797908792274921901699720888093776657273330010533678812202354218097512545405947522435258490771167055601360483958644670632441572215539753697817977846174064955149290862569321978468622482839722413756570560574902614079729686524145351004748216637048440319989000889524345065854122758866688116427171479924442928230863465674813919123162824586178664583591245665294765456828489128831426076900422421902267105562632111110937054421750694165896040807198403850962455444362981230987879927244284909188845801561660979191338754992005240636899125607176060588611646710940507754100225698315520005593572972571636269561882670428252483600823257530420752963450\"\n",
    "m = 1\n",
    "for i in range(987):\n",
    "    p = 1\n",
    "    for j in range(13):\n",
    "        p *= int(x[i+j])\n",
    "        \n",
    "    m = p if p > m else m\n",
    "\n",
    "print(m)"
   ]
  },
  {
   "cell_type": "code",
   "execution_count": 15,
   "metadata": {},
   "outputs": [
    {
     "name": "stdout",
     "output_type": "stream",
     "text": [
      "143042032116\n"
     ]
    }
   ],
   "source": [
    "def isPrime(x):\n",
    "    i = 2\n",
    "    while i*i < x:\n",
    "        if x%i == 0: return False\n",
    "        i = i + 1\n",
    "    return True\n",
    "\n",
    "s = 0\n",
    "for i in range(2000000):\n",
    "    if i < 2: continue\n",
    "    if isPrime(i): \n",
    "        s += i\n",
    "        \n",
    "print(s)"
   ]
  },
  {
   "cell_type": "code",
   "execution_count": null,
   "metadata": {
    "collapsed": true
   },
   "outputs": [],
   "source": []
  }
 ],
 "metadata": {
  "kernelspec": {
   "display_name": "Python 3",
   "language": "python",
   "name": "python3"
  },
  "language_info": {
   "codemirror_mode": {
    "name": "ipython",
    "version": 3
   },
   "file_extension": ".py",
   "mimetype": "text/x-python",
   "name": "python",
   "nbconvert_exporter": "python",
   "pygments_lexer": "ipython3",
   "version": "3.6.4"
  }
 },
 "nbformat": 4,
 "nbformat_minor": 2
}
